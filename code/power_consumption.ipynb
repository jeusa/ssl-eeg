{
 "cells": [
  {
   "cell_type": "code",
   "execution_count": 3,
   "metadata": {},
   "outputs": [],
   "source": [
    "import pandas as pd\n",
    "import os\n",
    "\n",
    "from ssl_eeg.model import models_path\n",
    "\n",
    "em_df = pd.read_csv(os.path.join(models_path, \"emissions_full.csv\"))"
   ]
  },
  {
   "cell_type": "code",
   "execution_count": 4,
   "metadata": {},
   "outputs": [
    {
     "name": "stdout",
     "output_type": "stream",
     "text": [
      "Energy consumed for training all models: 92.17 kWh\n"
     ]
    }
   ],
   "source": [
    "energy_dl = em_df[\"energy_consumed\"].sum()\n",
    "print(\"Energy consumed for training all models:\", round(energy_dl, 2), \"kWh\")"
   ]
  },
  {
   "cell_type": "code",
   "execution_count": 8,
   "metadata": {},
   "outputs": [
    {
     "name": "stdout",
     "output_type": "stream",
     "text": [
      "Equivalent energy consumption of an average german household: 45.23 h\n"
     ]
    }
   ],
   "source": [
    "energy_per_household = 17851 # year 2021\n",
    "energy_hours_dl = energy_dl / (energy_per_household/365/24) # hours for energy consumption\n",
    "print(\"Equivalent energy consumption of an average german household:\", round(energy_hours_dl, 2), \"h\")"
   ]
  }
 ],
 "metadata": {
  "kernelspec": {
   "display_name": "ba",
   "language": "python",
   "name": "python3"
  },
  "language_info": {
   "codemirror_mode": {
    "name": "ipython",
    "version": 3
   },
   "file_extension": ".py",
   "mimetype": "text/x-python",
   "name": "python",
   "nbconvert_exporter": "python",
   "pygments_lexer": "ipython3",
   "version": "3.8.16"
  }
 },
 "nbformat": 4,
 "nbformat_minor": 2
}
